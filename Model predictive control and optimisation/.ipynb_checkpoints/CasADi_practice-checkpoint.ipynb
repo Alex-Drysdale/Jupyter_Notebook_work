{
 "cells": [
  {
   "cell_type": "code",
   "execution_count": 1,
   "id": "486c7f33-e615-45b1-9647-f56bd1847af6",
   "metadata": {},
   "outputs": [],
   "source": [
    "import numpy as np\n",
    "import matplotlib.pyplot as plt\n",
    "from scipy.integrate import solve_ivp"
   ]
  },
  {
   "cell_type": "code",
   "execution_count": null,
   "id": "c32f1ec9-fade-4da9-9367-5d1480de2e79",
   "metadata": {},
   "outputs": [],
   "source": []
  }
 ],
 "metadata": {
  "kernelspec": {
   "display_name": "Python (base)",
   "language": "python",
   "name": "base"
  },
  "language_info": {
   "codemirror_mode": {
    "name": "ipython",
    "version": 3
   },
   "file_extension": ".py",
   "mimetype": "text/x-python",
   "name": "python",
   "nbconvert_exporter": "python",
   "pygments_lexer": "ipython3",
   "version": "3.11.7"
  }
 },
 "nbformat": 4,
 "nbformat_minor": 5
}

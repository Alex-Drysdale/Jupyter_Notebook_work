{
 "cells": [
  {
   "cell_type": "markdown",
   "id": "bb45f326-bc34-4804-b77f-cbaedfd13970",
   "metadata": {},
   "source": [
    "## Import statements"
   ]
  },
  {
   "cell_type": "code",
   "execution_count": 3,
   "id": "3f3bce5d-2347-4fcb-baff-4271b32baba2",
   "metadata": {},
   "outputs": [],
   "source": [
    "import numpy as np\n",
    "import pandas as pd\n",
    "from sklearn.model_selection import train_test_split"
   ]
  },
  {
   "cell_type": "code",
   "execution_count": 7,
   "id": "8802143e-0359-4e85-8a23-91b7e77f1597",
   "metadata": {},
   "outputs": [
    {
     "name": "stderr",
     "output_type": "stream",
     "text": [
      "WARNING: Skipping pytorch as it is not installed.\n"
     ]
    }
   ],
   "source": [
    "!pip uninstall pytorch"
   ]
  },
  {
   "cell_type": "code",
   "execution_count": null,
   "id": "5f3bd136-f330-43df-9c1d-ff6e543da1ea",
   "metadata": {},
   "outputs": [],
   "source": [
    "!pip install torch"
   ]
  },
  {
   "cell_type": "code",
   "execution_count": 10,
   "id": "dc9ae266-346c-416f-b20d-d97aed575997",
   "metadata": {},
   "outputs": [],
   "source": [
    "import torch\n",
    "import torch.nn as nn"
   ]
  },
  {
   "cell_type": "markdown",
   "id": "e5d9853f-5cbe-4917-ab89-2cf7f8a2163a",
   "metadata": {},
   "source": [
    "## Importing Data\n",
    " Below I searched for a suitable dataset to train and test a model on"
   ]
  },
  {
   "cell_type": "code",
   "execution_count": 12,
   "id": "436a909d-f3aa-4618-b24d-0bc2bf16a771",
   "metadata": {},
   "outputs": [],
   "source": []
  }
 ],
 "metadata": {
  "kernelspec": {
   "display_name": "Python (base)",
   "language": "python",
   "name": "base"
  },
  "language_info": {
   "codemirror_mode": {
    "name": "ipython",
    "version": 3
   },
   "file_extension": ".py",
   "mimetype": "text/x-python",
   "name": "python",
   "nbconvert_exporter": "python",
   "pygments_lexer": "ipython3",
   "version": "3.11.7"
  }
 },
 "nbformat": 4,
 "nbformat_minor": 5
}

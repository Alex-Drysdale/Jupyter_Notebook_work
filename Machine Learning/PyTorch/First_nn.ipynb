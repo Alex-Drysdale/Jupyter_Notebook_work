{
 "cells": [
  {
   "cell_type": "markdown",
   "id": "bb45f326-bc34-4804-b77f-cbaedfd13970",
   "metadata": {},
   "source": [
    "# I want to develop my skills in data manipulation and Pytorch "
   ]
  },
  {
   "cell_type": "code",
   "execution_count": 27,
   "id": "3f3bce5d-2347-4fcb-baff-4271b32baba2",
   "metadata": {},
   "outputs": [],
   "source": [
    "import numpy as np\n",
    "import pandas as pd\n",
    "from sklearn.model_selection import train_test_split\n",
    "import matplotlib.pyplot as plt"
   ]
  },
  {
   "cell_type": "code",
   "execution_count": 7,
   "id": "8802143e-0359-4e85-8a23-91b7e77f1597",
   "metadata": {},
   "outputs": [
    {
     "name": "stderr",
     "output_type": "stream",
     "text": [
      "WARNING: Skipping pytorch as it is not installed.\n"
     ]
    }
   ],
   "source": [
    "!pip uninstall pytorch"
   ]
  },
  {
   "cell_type": "code",
   "execution_count": null,
   "id": "5f3bd136-f330-43df-9c1d-ff6e543da1ea",
   "metadata": {},
   "outputs": [],
   "source": [
    "!pip install torch"
   ]
  },
  {
   "cell_type": "code",
   "execution_count": 10,
   "id": "dc9ae266-346c-416f-b20d-d97aed575997",
   "metadata": {},
   "outputs": [],
   "source": [
    "import torch\n",
    "import torch.nn as nn"
   ]
  },
  {
   "cell_type": "markdown",
   "id": "e5d9853f-5cbe-4917-ab89-2cf7f8a2163a",
   "metadata": {},
   "source": [
    "## Importing Data\n",
    " Below I searched for a suitable dataset to train and test a model on, I found a very good dataset on heart pointers and heart attack\n",
    " in binary of 1 and 0.\n",
    " It's a really clean dataset and so will massively help with just focusing on PyTorch skills for now."
   ]
  },
  {
   "cell_type": "code",
   "execution_count": 16,
   "id": "436a909d-f3aa-4618-b24d-0bc2bf16a771",
   "metadata": {},
   "outputs": [
    {
     "name": "stdout",
     "output_type": "stream",
     "text": [
      "<class 'pandas.core.frame.DataFrame'>\n",
      "RangeIndex: 303 entries, 0 to 302\n",
      "Data columns (total 14 columns):\n",
      " #   Column    Non-Null Count  Dtype  \n",
      "---  ------    --------------  -----  \n",
      " 0   age       303 non-null    int64  \n",
      " 1   sex       303 non-null    int64  \n",
      " 2   cp        303 non-null    int64  \n",
      " 3   trtbps    303 non-null    int64  \n",
      " 4   chol      303 non-null    int64  \n",
      " 5   fbs       303 non-null    int64  \n",
      " 6   restecg   303 non-null    int64  \n",
      " 7   thalachh  303 non-null    int64  \n",
      " 8   exng      303 non-null    int64  \n",
      " 9   oldpeak   303 non-null    float64\n",
      " 10  slp       303 non-null    int64  \n",
      " 11  caa       303 non-null    int64  \n",
      " 12  thall     303 non-null    int64  \n",
      " 13  output    303 non-null    int64  \n",
      "dtypes: float64(1), int64(13)\n",
      "memory usage: 33.3 KB\n"
     ]
    }
   ],
   "source": [
    "df = pd.read_csv('archive/heart.csv')\n",
    "df.info()"
   ]
  },
  {
   "cell_type": "markdown",
   "id": "234ff7ad-3ebc-41e1-acce-bc9f666c3cd0",
   "metadata": {},
   "source": [
    "Just want to do some exploratory data analysis for now to map out the dataset a bit. I am just going to plot age in a frequency chart.\n",
    "I will also plot age and blood pressure..."
   ]
  },
  {
   "cell_type": "code",
   "execution_count": 26,
   "id": "b95f6f0f-d070-4fa0-a180-c12046986b16",
   "metadata": {},
   "outputs": [],
   "source": [
    "age = np.array(df[['age']])\n"
   ]
  }
 ],
 "metadata": {
  "kernelspec": {
   "display_name": "Python (base)",
   "language": "python",
   "name": "base"
  },
  "language_info": {
   "codemirror_mode": {
    "name": "ipython",
    "version": 3
   },
   "file_extension": ".py",
   "mimetype": "text/x-python",
   "name": "python",
   "nbconvert_exporter": "python",
   "pygments_lexer": "ipython3",
   "version": "3.11.7"
  }
 },
 "nbformat": 4,
 "nbformat_minor": 5
}
